{
 "cells": [
  {
   "cell_type": "code",
   "execution_count": 14,
   "id": "858f54c4",
   "metadata": {},
   "outputs": [],
   "source": [
    "import sqlite3"
   ]
  },
  {
   "cell_type": "raw",
   "id": "a19761a1",
   "metadata": {},
   "source": [
    "#working with database using SQL(stuctured query language)"
   ]
  },
  {
   "cell_type": "markdown",
   "id": "f0ef235d",
   "metadata": {},
   "source": [
    "# create database"
   ]
  },
  {
   "cell_type": "code",
   "execution_count": 15,
   "id": "1a926f61",
   "metadata": {},
   "outputs": [],
   "source": [
    "#student_database will be created in jupyter notebook home\n",
    "\n",
    "db=sqlite3.connect(\"student_database.db\")"
   ]
  },
  {
   "cell_type": "raw",
   "id": "2c7ce07f",
   "metadata": {},
   "source": [
    "cursor\n",
    "a cursor in sql is a temporary work area created in system memory when sql statment is executed.\n",
    "a sql cursor is a set of rows together with a pointer that identifies a cursor raw .\n",
    "it is a database object to reterieve data from a result set one row at a time."
   ]
  },
  {
   "cell_type": "code",
   "execution_count": 16,
   "id": "121c28d4",
   "metadata": {},
   "outputs": [],
   "source": [
    "# create a cursor \n",
    "\n",
    "cur=db.cursor()"
   ]
  },
  {
   "cell_type": "markdown",
   "id": "4047e642",
   "metadata": {},
   "source": [
    "# Create table in student_database"
   ]
  },
  {
   "cell_type": "code",
   "execution_count": 17,
   "id": "42d16082",
   "metadata": {},
   "outputs": [
    {
     "ename": "OperationalError",
     "evalue": "table student already exists",
     "output_type": "error",
     "traceback": [
      "\u001b[1;31m---------------------------------------------------------------------------\u001b[0m",
      "\u001b[1;31mOperationalError\u001b[0m                          Traceback (most recent call last)",
      "Input \u001b[1;32mIn [17]\u001b[0m, in \u001b[0;36m<cell line: 1>\u001b[1;34m()\u001b[0m\n\u001b[1;32m----> 1\u001b[0m \u001b[43mcur\u001b[49m\u001b[38;5;241;43m.\u001b[39;49m\u001b[43mexecute\u001b[49m\u001b[43m(\u001b[49m\u001b[38;5;124;43m\"\u001b[39;49m\u001b[38;5;124;43mcreate table student (id int primary key,name text,marks int)\u001b[39;49m\u001b[38;5;124;43m\"\u001b[39;49m\u001b[43m)\u001b[49m\n",
      "\u001b[1;31mOperationalError\u001b[0m: table student already exists"
     ]
    }
   ],
   "source": [
    "cur.execute(\"create table student (id int primary key,name text,marks int)\")"
   ]
  },
  {
   "cell_type": "markdown",
   "id": "0a374dd4",
   "metadata": {},
   "source": [
    "# insert data in student table"
   ]
  },
  {
   "cell_type": "code",
   "execution_count": 18,
   "id": "ec8bae14",
   "metadata": {},
   "outputs": [
    {
     "data": {
      "text/plain": [
       "<sqlite3.Cursor at 0x268e8fcf650>"
      ]
     },
     "execution_count": 18,
     "metadata": {},
     "output_type": "execute_result"
    }
   ],
   "source": [
    "cur.execute(\"insert into student(id,name,marks) values(1,'john',90)\")"
   ]
  },
  {
   "cell_type": "code",
   "execution_count": 23,
   "id": "eaa49887",
   "metadata": {},
   "outputs": [],
   "source": [
    "db.commit;"
   ]
  },
  {
   "cell_type": "code",
   "execution_count": 24,
   "id": "b53ccc7f",
   "metadata": {},
   "outputs": [
    {
     "name": "stdout",
     "output_type": "stream",
     "text": [
      "-1 record(s) inserted\n"
     ]
    }
   ],
   "source": [
    "print(cur.rowcount,\"record(s) inserted\")"
   ]
  },
  {
   "cell_type": "code",
   "execution_count": 25,
   "id": "2253e88d",
   "metadata": {},
   "outputs": [
    {
     "data": {
      "text/plain": [
       "<sqlite3.Cursor at 0x268e8fcf650>"
      ]
     },
     "execution_count": 25,
     "metadata": {},
     "output_type": "execute_result"
    }
   ],
   "source": [
    "cur.execute(\"insert into student(id,name,marks) values(2,'teena',100)\")"
   ]
  },
  {
   "cell_type": "code",
   "execution_count": 26,
   "id": "4a7e6b11",
   "metadata": {},
   "outputs": [
    {
     "name": "stdout",
     "output_type": "stream",
     "text": [
      "(1, 'john', 90)\n",
      "(2, 'teena', 100)\n"
     ]
    }
   ],
   "source": [
    "results=cur.execute(\"select * from student\")\n",
    "\n",
    "for row in results:\n",
    "    print(row)"
   ]
  },
  {
   "cell_type": "code",
   "execution_count": 27,
   "id": "a9d92f04",
   "metadata": {},
   "outputs": [
    {
     "data": {
      "text/plain": [
       "<sqlite3.Cursor at 0x268e8fcf650>"
      ]
     },
     "execution_count": 27,
     "metadata": {},
     "output_type": "execute_result"
    }
   ],
   "source": [
    "cur.execute(\"insert into student(id,name,marks) values(3,'andrew',70)\")"
   ]
  },
  {
   "cell_type": "code",
   "execution_count": 28,
   "id": "d03dc80f",
   "metadata": {},
   "outputs": [
    {
     "name": "stdout",
     "output_type": "stream",
     "text": [
      "(1, 'john', 90)\n",
      "(2, 'teena', 100)\n",
      "(3, 'andrew', 70)\n"
     ]
    }
   ],
   "source": [
    "results=cur.execute(\"select * from student\")\n",
    "\n",
    "for row in results:\n",
    "    print(row)"
   ]
  },
  {
   "cell_type": "code",
   "execution_count": 29,
   "id": "53ddf369",
   "metadata": {},
   "outputs": [
    {
     "data": {
      "text/plain": [
       "<sqlite3.Cursor at 0x268e8fcf650>"
      ]
     },
     "execution_count": 29,
     "metadata": {},
     "output_type": "execute_result"
    }
   ],
   "source": [
    "cur.execute(\"insert into student(id,name,marks) values(4,'dorsey',56)\")"
   ]
  },
  {
   "cell_type": "code",
   "execution_count": 30,
   "id": "7733432d",
   "metadata": {},
   "outputs": [
    {
     "data": {
      "text/plain": [
       "<sqlite3.Cursor at 0x268e8fcf650>"
      ]
     },
     "execution_count": 30,
     "metadata": {},
     "output_type": "execute_result"
    }
   ],
   "source": [
    "cur.execute(\"insert into student(id,name,marks) values(5,'devid',46)\")"
   ]
  },
  {
   "cell_type": "code",
   "execution_count": 31,
   "id": "883fb78c",
   "metadata": {},
   "outputs": [
    {
     "data": {
      "text/plain": [
       "<sqlite3.Cursor at 0x268e8fcf650>"
      ]
     },
     "execution_count": 31,
     "metadata": {},
     "output_type": "execute_result"
    }
   ],
   "source": [
    "cur.execute(\"insert into student(id,name,marks) values(6,'kim',88)\")"
   ]
  },
  {
   "cell_type": "code",
   "execution_count": 32,
   "id": "7e7aa80f",
   "metadata": {},
   "outputs": [],
   "source": [
    "results=cur.execute(\"select * from student\")"
   ]
  },
  {
   "cell_type": "code",
   "execution_count": 33,
   "id": "071bd421",
   "metadata": {},
   "outputs": [
    {
     "name": "stdout",
     "output_type": "stream",
     "text": [
      "(1, 'john', 90)\n",
      "(2, 'teena', 100)\n",
      "(3, 'andrew', 70)\n",
      "(4, 'dorsey', 56)\n",
      "(5, 'devid', 46)\n",
      "(6, 'kim', 88)\n"
     ]
    }
   ],
   "source": [
    "for row in results:\n",
    "    print(row)"
   ]
  },
  {
   "cell_type": "code",
   "execution_count": 34,
   "id": "f5f396d1",
   "metadata": {},
   "outputs": [
    {
     "data": {
      "text/plain": [
       "<sqlite3.Cursor at 0x268e8fcf650>"
      ]
     },
     "execution_count": 34,
     "metadata": {},
     "output_type": "execute_result"
    }
   ],
   "source": [
    "#insert multipal record\n",
    "cur.execute(\"insert into student values(7,'kiara',75),(8,'jack',94)\")\n",
    " \n",
    "    "
   ]
  },
  {
   "cell_type": "code",
   "execution_count": null,
   "id": "df33bc0a",
   "metadata": {},
   "outputs": [],
   "source": []
  },
  {
   "cell_type": "code",
   "execution_count": null,
   "id": "fb24b42d",
   "metadata": {},
   "outputs": [],
   "source": []
  },
  {
   "cell_type": "code",
   "execution_count": null,
   "id": "1ee87ea2",
   "metadata": {},
   "outputs": [],
   "source": []
  },
  {
   "cell_type": "markdown",
   "id": "1f03c8f9",
   "metadata": {},
   "source": [
    "# Accessing data stored in SQLite using Python"
   ]
  },
  {
   "cell_type": "code",
   "execution_count": 35,
   "id": "4f388450",
   "metadata": {},
   "outputs": [
    {
     "name": "stdout",
     "output_type": "stream",
     "text": [
      "(1, 'john', 90)\n",
      "(2, 'teena', 100)\n",
      "(3, 'andrew', 70)\n",
      "(4, 'dorsey', 56)\n",
      "(5, 'devid', 46)\n",
      "(6, 'kim', 88)\n",
      "(7, 'kiara', 75)\n",
      "(8, 'jack', 94)\n"
     ]
    }
   ],
   "source": [
    "results=cur.execute(\"select * from student\")\n",
    " \n",
    "    \n",
    "for i in results:\n",
    "    print(i)"
   ]
  },
  {
   "cell_type": "code",
   "execution_count": 23,
   "id": "aeae9e07",
   "metadata": {},
   "outputs": [
    {
     "name": "stdout",
     "output_type": "stream",
     "text": [
      "(1, 'john')\n",
      "(2, 'teena')\n",
      "(3, 'andrew')\n",
      "(4, 'dorsey')\n",
      "(5, 'devid')\n",
      "(6, 'kim')\n",
      "(7, 'kiara')\n",
      "(8, 'jack')\n"
     ]
    }
   ],
   "source": [
    "results=cur.execute(\"select id,name from student\")\n",
    "for i in results:\n",
    "    print(i)"
   ]
  },
  {
   "cell_type": "code",
   "execution_count": 24,
   "id": "e7235aed",
   "metadata": {},
   "outputs": [
    {
     "name": "stdout",
     "output_type": "stream",
     "text": [
      "(1, 90)\n",
      "(2, 100)\n",
      "(3, 70)\n",
      "(4, 56)\n",
      "(5, 46)\n",
      "(6, 88)\n",
      "(7, 75)\n",
      "(8, 94)\n"
     ]
    }
   ],
   "source": [
    "results=cur.execute(\"select id,marks from student\")\n",
    "for i in results:\n",
    "    print(i)\n"
   ]
  },
  {
   "cell_type": "code",
   "execution_count": 25,
   "id": "0eeb677f",
   "metadata": {},
   "outputs": [
    {
     "name": "stdout",
     "output_type": "stream",
     "text": [
      "(1, 'john', 90)\n",
      "(2, 'teena', 100)\n",
      "(3, 'andrew', 70)\n",
      "(4, 'dorsey', 56)\n",
      "(5, 'devid', 46)\n",
      "(6, 'kim', 88)\n",
      "(7, 'kiara', 75)\n",
      "(8, 'jack', 94)\n"
     ]
    }
   ],
   "source": [
    "results=cur.execute(\"select * from student\")\n",
    "for i in results:\n",
    "    print(i)"
   ]
  },
  {
   "cell_type": "code",
   "execution_count": 26,
   "id": "c0dc6503",
   "metadata": {},
   "outputs": [
    {
     "name": "stdout",
     "output_type": "stream",
     "text": [
      "(1, 'john', 90)\n"
     ]
    }
   ],
   "source": [
    "results=cur.execute(\"select * from student where id=1\")\n",
    "for i in results:\n",
    "    print(i)"
   ]
  },
  {
   "cell_type": "code",
   "execution_count": 27,
   "id": "494e24e4",
   "metadata": {},
   "outputs": [
    {
     "name": "stdout",
     "output_type": "stream",
     "text": [
      "(2, 'teena', 100)\n"
     ]
    }
   ],
   "source": [
    "results=cur.execute(\"select * from student where id=2\")\n",
    "for i in results:\n",
    "    print(i)"
   ]
  },
  {
   "cell_type": "code",
   "execution_count": 28,
   "id": "a5710de4",
   "metadata": {},
   "outputs": [
    {
     "name": "stdout",
     "output_type": "stream",
     "text": [
      "(5, 'devid', 46)\n"
     ]
    }
   ],
   "source": [
    "results=cur.execute(\"select * from student where id=5\")\n",
    "for i in results:\n",
    "    print(i)"
   ]
  },
  {
   "cell_type": "code",
   "execution_count": 29,
   "id": "5d28b876",
   "metadata": {},
   "outputs": [
    {
     "name": "stdout",
     "output_type": "stream",
     "text": [
      "(1, 'john', 90)\n",
      "(2, 'teena', 100)\n",
      "(3, 'andrew', 70)\n"
     ]
    }
   ],
   "source": [
    "results=cur.execute(\"select * from student limit 3\")\n",
    "for i in results:\n",
    "    print(i)"
   ]
  },
  {
   "cell_type": "code",
   "execution_count": null,
   "id": "46b93ac6",
   "metadata": {},
   "outputs": [],
   "source": []
  },
  {
   "cell_type": "code",
   "execution_count": null,
   "id": "7ae36ed6",
   "metadata": {},
   "outputs": [],
   "source": []
  },
  {
   "cell_type": "code",
   "execution_count": 30,
   "id": "69051514",
   "metadata": {},
   "outputs": [],
   "source": [
    "results=cur.execute(\"select * from student where id=1\")\n"
   ]
  },
  {
   "cell_type": "code",
   "execution_count": 31,
   "id": "4aed9d95",
   "metadata": {},
   "outputs": [
    {
     "data": {
      "text/plain": [
       "(1, 'john', 90)"
      ]
     },
     "execution_count": 31,
     "metadata": {},
     "output_type": "execute_result"
    }
   ],
   "source": [
    "results.fetchone()"
   ]
  },
  {
   "cell_type": "code",
   "execution_count": 32,
   "id": "37a5822a",
   "metadata": {},
   "outputs": [
    {
     "name": "stdout",
     "output_type": "stream",
     "text": [
      "(4, 'dorsey', 56)\n"
     ]
    }
   ],
   "source": [
    "results=cur.execute(\"select * from student where id=4\")\n",
    "for i in results:\n",
    "    print(i)"
   ]
  },
  {
   "cell_type": "code",
   "execution_count": 33,
   "id": "2cd1257f",
   "metadata": {},
   "outputs": [
    {
     "data": {
      "text/plain": [
       "[(8, 'jack', 94)]"
      ]
     },
     "execution_count": 33,
     "metadata": {},
     "output_type": "execute_result"
    }
   ],
   "source": [
    "results=cur.execute(\"select * from student where name='jack'\")\n",
    "results.fetchall()"
   ]
  },
  {
   "cell_type": "code",
   "execution_count": 34,
   "id": "2a96018d",
   "metadata": {},
   "outputs": [
    {
     "name": "stdout",
     "output_type": "stream",
     "text": [
      "(8, 'jack', 94)\n"
     ]
    }
   ],
   "source": [
    "results=cur.execute(\"select * from student where name='jack'\")\n",
    "for i in results:\n",
    "    print(i)"
   ]
  },
  {
   "cell_type": "code",
   "execution_count": 35,
   "id": "dac209f2",
   "metadata": {},
   "outputs": [],
   "source": [
    "results=cur.execute(\"select * from student where marks=92\")\n",
    "for i in results:\n",
    "    print(i)"
   ]
  },
  {
   "cell_type": "code",
   "execution_count": 36,
   "id": "049b4a55",
   "metadata": {},
   "outputs": [
    {
     "name": "stdout",
     "output_type": "stream",
     "text": [
      "(1, 90)\n",
      "(2, 100)\n",
      "(3, 70)\n",
      "(4, 56)\n",
      "(5, 46)\n",
      "(6, 88)\n",
      "(7, 75)\n",
      "(8, 94)\n"
     ]
    }
   ],
   "source": [
    "results=cur.execute(\"select id,marks from student\")\n",
    "for i in results:\n",
    "    print(i)\n"
   ]
  },
  {
   "cell_type": "code",
   "execution_count": 37,
   "id": "ac8a1a24",
   "metadata": {},
   "outputs": [
    {
     "name": "stdout",
     "output_type": "stream",
     "text": [
      "(1, 'john', 90)\n",
      "(2, 'teena', 100)\n",
      "(3, 'andrew', 70)\n",
      "(4, 'dorsey', 56)\n",
      "(5, 'devid', 46)\n",
      "(6, 'kim', 88)\n",
      "(7, 'kiara', 75)\n",
      "(8, 'jack', 94)\n"
     ]
    }
   ],
   "source": [
    "results=cur.execute(\"select * from student\")\n",
    "for i in results:\n",
    "    print(i)"
   ]
  },
  {
   "cell_type": "code",
   "execution_count": 43,
   "id": "364635a9",
   "metadata": {},
   "outputs": [],
   "source": [
    "results=cur.execute(\"select * from student where id=1\")\n"
   ]
  },
  {
   "cell_type": "code",
   "execution_count": 44,
   "id": "c5a57c64",
   "metadata": {},
   "outputs": [
    {
     "data": {
      "text/plain": [
       "(1, 'john', 90)"
      ]
     },
     "execution_count": 44,
     "metadata": {},
     "output_type": "execute_result"
    }
   ],
   "source": [
    "results.fetchone()"
   ]
  },
  {
   "cell_type": "code",
   "execution_count": 45,
   "id": "d210911a",
   "metadata": {},
   "outputs": [
    {
     "data": {
      "text/plain": [
       "(4, 'dorsey', 56)"
      ]
     },
     "execution_count": 45,
     "metadata": {},
     "output_type": "execute_result"
    }
   ],
   "source": [
    "results=cur.execute(\"select * from student where id=4\")\n",
    "results.fetchone()"
   ]
  },
  {
   "cell_type": "code",
   "execution_count": 51,
   "id": "27ef9b8c",
   "metadata": {},
   "outputs": [
    {
     "name": "stdout",
     "output_type": "stream",
     "text": [
      "(8, 'jack', 94)\n"
     ]
    }
   ],
   "source": [
    "results=cur.execute(\"select * from student where name= 'jack'\")\n",
    "\n",
    "for i in results:\n",
    "    print(i)"
   ]
  },
  {
   "cell_type": "code",
   "execution_count": 53,
   "id": "268bdc87",
   "metadata": {},
   "outputs": [
    {
     "name": "stdout",
     "output_type": "stream",
     "text": [
      "(8, 'jack', 94)\n"
     ]
    }
   ],
   "source": [
    "results=cur.execute(\"select * from student where marks=94\")\n",
    "\n",
    "for i in results:\n",
    "    print(i)"
   ]
  },
  {
   "cell_type": "code",
   "execution_count": 54,
   "id": "fa701e3f",
   "metadata": {},
   "outputs": [
    {
     "name": "stdout",
     "output_type": "stream",
     "text": [
      "(6, 'kim', 88)\n"
     ]
    }
   ],
   "source": [
    "results=cur.execute(\"select * from student where marks=88\")\n",
    "\n",
    "for i in results:\n",
    "    print(i)"
   ]
  },
  {
   "cell_type": "code",
   "execution_count": 56,
   "id": "d73c74ae",
   "metadata": {},
   "outputs": [
    {
     "name": "stdout",
     "output_type": "stream",
     "text": [
      "(1, 'john', 90)\n",
      "(2, 'teena', 100)\n",
      "(3, 'andrew', 70)\n"
     ]
    }
   ],
   "source": [
    "results=cur.execute(\"select * from student limit 3\")\n",
    "\n",
    "for i in results:\n",
    "    print(i)"
   ]
  },
  {
   "cell_type": "code",
   "execution_count": 57,
   "id": "9376c112",
   "metadata": {},
   "outputs": [
    {
     "name": "stdout",
     "output_type": "stream",
     "text": [
      "(1, 'john', 90)\n",
      "(2, 'teena', 100)\n",
      "(3, 'andrew', 70)\n",
      "(4, 'dorsey', 56)\n",
      "(5, 'devid', 46)\n",
      "(6, 'kim', 88)\n",
      "(7, 'kiara', 75)\n",
      "(8, 'jack', 94)\n"
     ]
    }
   ],
   "source": [
    "results=cur.execute(\"select * from student\")\n",
    "\n",
    "for i in results:\n",
    "    print(i)"
   ]
  },
  {
   "cell_type": "code",
   "execution_count": 61,
   "id": "da63ab11",
   "metadata": {},
   "outputs": [
    {
     "name": "stdout",
     "output_type": "stream",
     "text": [
      "(4, 'dorsey', 56)\n",
      "(5, 'devid', 46)\n",
      "(6, 'kim', 88)\n"
     ]
    }
   ],
   "source": [
    "results=cur.execute(\"select * from student where id in (4,5,6) \")\n",
    "\n",
    "for i in results:\n",
    "    print(i)"
   ]
  },
  {
   "cell_type": "code",
   "execution_count": 62,
   "id": "f9f3d621",
   "metadata": {},
   "outputs": [
    {
     "name": "stdout",
     "output_type": "stream",
     "text": [
      "(3, 'andrew', 70)\n",
      "(6, 'kim', 88)\n"
     ]
    }
   ],
   "source": [
    "results=cur.execute(\"select * from student where name in ('kim','andrew') \")\n",
    "\n",
    "for i in results:\n",
    "    print(i)"
   ]
  },
  {
   "cell_type": "code",
   "execution_count": 63,
   "id": "5dd23adc",
   "metadata": {},
   "outputs": [
    {
     "name": "stdout",
     "output_type": "stream",
     "text": [
      "(3, 'andrew', 70)\n",
      "(5, 'devid', 46)\n"
     ]
    }
   ],
   "source": [
    "results=cur.execute(\"select * from student where marks in (70,46) \")\n",
    "\n",
    "for i in results:\n",
    "    print(i)"
   ]
  },
  {
   "cell_type": "code",
   "execution_count": 66,
   "id": "0b092fb2",
   "metadata": {},
   "outputs": [
    {
     "name": "stdout",
     "output_type": "stream",
     "text": [
      "(3, 'andrew', 70)\n",
      "(5, 'devid', 46)\n",
      "(4, 'dorsey', 56)\n",
      "(8, 'jack', 94)\n",
      "(1, 'john', 90)\n",
      "(7, 'kiara', 75)\n",
      "(6, 'kim', 88)\n",
      "(2, 'teena', 100)\n"
     ]
    }
   ],
   "source": [
    "results=cur.execute(\"select * from student order by name asc\")\n",
    "\n",
    "for i in results:\n",
    "    print(i)"
   ]
  },
  {
   "cell_type": "code",
   "execution_count": 67,
   "id": "2be99086",
   "metadata": {},
   "outputs": [
    {
     "name": "stdout",
     "output_type": "stream",
     "text": [
      "(2, 'teena', 100)\n",
      "(6, 'kim', 88)\n",
      "(7, 'kiara', 75)\n",
      "(1, 'john', 90)\n",
      "(8, 'jack', 94)\n",
      "(4, 'dorsey', 56)\n",
      "(5, 'devid', 46)\n",
      "(3, 'andrew', 70)\n"
     ]
    }
   ],
   "source": [
    "results=cur.execute(\"select * from student order by name desc\")\n",
    "\n",
    "for i in results:\n",
    "    print(i)"
   ]
  },
  {
   "cell_type": "code",
   "execution_count": 68,
   "id": "e2b567e3",
   "metadata": {},
   "outputs": [
    {
     "name": "stdout",
     "output_type": "stream",
     "text": [
      "(5, 'devid', 46)\n",
      "(4, 'dorsey', 56)\n",
      "(3, 'andrew', 70)\n",
      "(7, 'kiara', 75)\n",
      "(6, 'kim', 88)\n",
      "(1, 'john', 90)\n",
      "(8, 'jack', 94)\n",
      "(2, 'teena', 100)\n"
     ]
    }
   ],
   "source": [
    "results=cur.execute(\"select * from student order by marks asc\")\n",
    "\n",
    "for i in results:\n",
    "    print(i)"
   ]
  },
  {
   "cell_type": "code",
   "execution_count": 69,
   "id": "4c2e9242",
   "metadata": {},
   "outputs": [
    {
     "name": "stdout",
     "output_type": "stream",
     "text": [
      "(5, 'devid', 46)\n",
      "(4, 'dorsey', 56)\n",
      "(3, 'andrew', 70)\n"
     ]
    }
   ],
   "source": [
    "results=cur.execute(\"select * from student order by marks asc limit 3\")\n",
    "\n",
    "for i in results:\n",
    "    print(i)"
   ]
  },
  {
   "cell_type": "code",
   "execution_count": 70,
   "id": "6584a471",
   "metadata": {},
   "outputs": [
    {
     "name": "stdout",
     "output_type": "stream",
     "text": [
      "(2, 'teena', 100)\n",
      "(8, 'jack', 94)\n",
      "(1, 'john', 90)\n"
     ]
    }
   ],
   "source": [
    "results=cur.execute(\"select * from student order by marks desc limit 3\")\n",
    "\n",
    "for i in results:\n",
    "    print(i)"
   ]
  },
  {
   "cell_type": "code",
   "execution_count": 71,
   "id": "15b1976e",
   "metadata": {},
   "outputs": [
    {
     "name": "stdout",
     "output_type": "stream",
     "text": [
      "(2, 'teena', 100)\n",
      "(6, 'kim', 88)\n",
      "(7, 'kiara', 75)\n",
      "(1, 'john', 90)\n",
      "(8, 'jack', 94)\n",
      "(4, 'dorsey', 56)\n",
      "(5, 'devid', 46)\n",
      "(3, 'andrew', 70)\n"
     ]
    }
   ],
   "source": [
    "results=cur.execute(\"select * from student order by name desc\")\n",
    "\n",
    "for i in results:\n",
    "    print(i)"
   ]
  },
  {
   "cell_type": "code",
   "execution_count": 72,
   "id": "08e61175",
   "metadata": {},
   "outputs": [
    {
     "name": "stdout",
     "output_type": "stream",
     "text": [
      "(1, 'john', 90)\n"
     ]
    }
   ],
   "source": [
    "results=cur.execute(\"select * from student where name='john'\")\n",
    "\n",
    "for i in results:\n",
    "    print(i)"
   ]
  },
  {
   "cell_type": "code",
   "execution_count": 74,
   "id": "9b27d5f0",
   "metadata": {},
   "outputs": [
    {
     "name": "stdout",
     "output_type": "stream",
     "text": [
      "(90,)\n"
     ]
    }
   ],
   "source": [
    "results=cur.execute(\"select marks from student where name='john'\")\n",
    "\n",
    "for i in results:\n",
    "    print(i)"
   ]
  },
  {
   "cell_type": "code",
   "execution_count": 76,
   "id": "eed0ac28",
   "metadata": {},
   "outputs": [
    {
     "name": "stdout",
     "output_type": "stream",
     "text": [
      "(3, 'andrew', 70)\n",
      "(6, 'kim', 88)\n",
      "(7, 'kiara', 75)\n"
     ]
    }
   ],
   "source": [
    "results=cur.execute(\"select * from student where marks>60 and marks<90\")\n",
    "\n",
    "for i in results:\n",
    "    print(i)"
   ]
  },
  {
   "cell_type": "code",
   "execution_count": 77,
   "id": "46a886f5",
   "metadata": {},
   "outputs": [
    {
     "name": "stdout",
     "output_type": "stream",
     "text": [
      "(4, 'dorsey', 56)\n",
      "(5, 'devid', 46)\n"
     ]
    }
   ],
   "source": [
    "results=cur.execute(\"select * from student where marks>40 and marks<60\")\n",
    "\n",
    "for i in results:\n",
    "    print(i)"
   ]
  },
  {
   "cell_type": "code",
   "execution_count": 80,
   "id": "03b5b2f1",
   "metadata": {},
   "outputs": [
    {
     "name": "stdout",
     "output_type": "stream",
     "text": [
      "(1, 'john', 90)\n",
      "(2, 'teena', 100)\n",
      "(3, 'andrew', 70)\n",
      "(4, 'dorsey', 56)\n",
      "(5, 'devid', 46)\n",
      "(6, 'kim', 88)\n",
      "(7, 'kiara', 75)\n",
      "(8, 'jack', 94)\n"
     ]
    }
   ],
   "source": [
    "results=cur.execute(\"select * from student\")\n",
    "\n",
    "for i in results:\n",
    "    print(i)"
   ]
  },
  {
   "cell_type": "code",
   "execution_count": 82,
   "id": "209a76df",
   "metadata": {},
   "outputs": [
    {
     "data": {
      "text/plain": [
       "[(1, 'john', 90),\n",
       " (2, 'teena', 100),\n",
       " (3, 'andrew', 70),\n",
       " (4, 'dorsey', 56),\n",
       " (5, 'devid', 46),\n",
       " (6, 'kim', 88),\n",
       " (7, 'kiara', 75),\n",
       " (8, 'jack', 94)]"
      ]
     },
     "execution_count": 82,
     "metadata": {},
     "output_type": "execute_result"
    }
   ],
   "source": [
    "#fechall command will fectch all rows\n",
    "\n",
    "results=cur.execute(\"select * from student\")\n",
    "\n",
    "\n",
    "results.fetchall()"
   ]
  },
  {
   "cell_type": "code",
   "execution_count": 83,
   "id": "94574e50",
   "metadata": {},
   "outputs": [
    {
     "data": {
      "text/plain": [
       "[(5, 'devid', 46), (4, 'dorsey', 56), (3, 'andrew', 70)]"
      ]
     },
     "execution_count": 83,
     "metadata": {},
     "output_type": "execute_result"
    }
   ],
   "source": [
    "results=cur.execute(\"select * from student order by marks asc limit 3\")\n",
    "results.fetchall()"
   ]
  },
  {
   "cell_type": "code",
   "execution_count": 84,
   "id": "35fce663",
   "metadata": {},
   "outputs": [
    {
     "data": {
      "text/plain": [
       "[(2, 'teena', 100),\n",
       " (6, 'kim', 88),\n",
       " (7, 'kiara', 75),\n",
       " (1, 'john', 90),\n",
       " (8, 'jack', 94),\n",
       " (4, 'dorsey', 56),\n",
       " (5, 'devid', 46),\n",
       " (3, 'andrew', 70)]"
      ]
     },
     "execution_count": 84,
     "metadata": {},
     "output_type": "execute_result"
    }
   ],
   "source": [
    "results=cur.execute(\"select * from student order by name desc\")\n",
    "results.fetchall()"
   ]
  },
  {
   "cell_type": "markdown",
   "id": "870e3d9a",
   "metadata": {},
   "source": [
    "AND operator"
   ]
  },
  {
   "cell_type": "code",
   "execution_count": 88,
   "id": "b307e092",
   "metadata": {},
   "outputs": [
    {
     "name": "stdout",
     "output_type": "stream",
     "text": [
      "(5, 'devid', 46)\n"
     ]
    }
   ],
   "source": [
    "results=cur.execute(\"select * from student where name='devid' and marks=46\")\n",
    "\n",
    "for i in results:\n",
    "    print(i)"
   ]
  },
  {
   "cell_type": "code",
   "execution_count": 89,
   "id": "2086d395",
   "metadata": {},
   "outputs": [],
   "source": [
    "results=cur.execute(\"select * from student where name='devid' and marks=68\")\n",
    "\n",
    "for i in results:\n",
    "    print(i)"
   ]
  },
  {
   "cell_type": "code",
   "execution_count": 91,
   "id": "e0fd314e",
   "metadata": {},
   "outputs": [],
   "source": [
    "results=cur.execute(\"select * from student where id=2 and marks=69\")\n",
    "\n",
    "for i in results:\n",
    "    print(i)"
   ]
  },
  {
   "cell_type": "markdown",
   "id": "48f0e0df",
   "metadata": {},
   "source": [
    "OR operator"
   ]
  },
  {
   "cell_type": "code",
   "execution_count": 92,
   "id": "2c5afe8b",
   "metadata": {},
   "outputs": [
    {
     "name": "stdout",
     "output_type": "stream",
     "text": [
      "(2, 'teena', 100)\n",
      "(3, 'andrew', 70)\n"
     ]
    }
   ],
   "source": [
    "results=cur.execute(\"select * from student where id=2 or marks=70\")\n",
    "\n",
    "for i in results:\n",
    "    print(i)"
   ]
  },
  {
   "cell_type": "code",
   "execution_count": 93,
   "id": "0bb89d93",
   "metadata": {},
   "outputs": [
    {
     "name": "stdout",
     "output_type": "stream",
     "text": [
      "(2, 'teena', 100)\n",
      "(3, 'andrew', 70)\n"
     ]
    }
   ],
   "source": [
    "results=cur.execute(\"select * from student where id=3 or marks=100\")\n",
    "\n",
    "for i in results:\n",
    "    print(i)"
   ]
  },
  {
   "cell_type": "code",
   "execution_count": 94,
   "id": "c954b4cd",
   "metadata": {},
   "outputs": [
    {
     "data": {
      "text/plain": [
       "[(2, 'teena', 100), (3, 'andrew', 70)]"
      ]
     },
     "execution_count": 94,
     "metadata": {},
     "output_type": "execute_result"
    }
   ],
   "source": [
    "results=cur.execute(\"select * from student where id=3 or marks=100\")\n",
    "\n",
    "results.fetchall()"
   ]
  },
  {
   "cell_type": "code",
   "execution_count": 95,
   "id": "8b889a4d",
   "metadata": {},
   "outputs": [
    {
     "name": "stdout",
     "output_type": "stream",
     "text": [
      "(2, 'teena', 100)\n",
      "(3, 'andrew', 70)\n"
     ]
    }
   ],
   "source": [
    "results=cur.execute(\"select * from student where id=2 or marks=70\")\n",
    "\n",
    "for i in results:\n",
    "    print(i)"
   ]
  },
  {
   "cell_type": "markdown",
   "id": "45a50c94",
   "metadata": {},
   "source": [
    "aggregate function"
   ]
  },
  {
   "cell_type": "raw",
   "id": "072f2851",
   "metadata": {},
   "source": [
    "MIN ---find minimum\n",
    "MAX ---find maximum\n",
    "AVG ---find average\n",
    "SUM --- find sum\n",
    "COUNT ---count the number of rows"
   ]
  },
  {
   "cell_type": "code",
   "execution_count": 96,
   "id": "73fc2967",
   "metadata": {},
   "outputs": [
    {
     "name": "stdout",
     "output_type": "stream",
     "text": [
      "(46,)\n"
     ]
    }
   ],
   "source": [
    "# find the minimum marks\n",
    "\n",
    "results=cur.execute(\"select min(marks) from student\")\n",
    "\n",
    "for i in results:\n",
    "    print(i)"
   ]
  },
  {
   "cell_type": "code",
   "execution_count": 97,
   "id": "95d4b8ba",
   "metadata": {},
   "outputs": [
    {
     "data": {
      "text/plain": [
       "(100,)"
      ]
     },
     "execution_count": 97,
     "metadata": {},
     "output_type": "execute_result"
    }
   ],
   "source": [
    "results=cur.execute(\"select max(marks) from student\")\n",
    "\n",
    "results.fetchone()"
   ]
  },
  {
   "cell_type": "code",
   "execution_count": 98,
   "id": "1aab8820",
   "metadata": {},
   "outputs": [
    {
     "data": {
      "text/plain": [
       "(77.375,)"
      ]
     },
     "execution_count": 98,
     "metadata": {},
     "output_type": "execute_result"
    }
   ],
   "source": [
    "# find average marks\n",
    "results=cur.execute(\"select avg(marks) from student\")\n",
    "\n",
    "results.fetchone()"
   ]
  },
  {
   "cell_type": "code",
   "execution_count": 99,
   "id": "6f2e86d5",
   "metadata": {},
   "outputs": [
    {
     "data": {
      "text/plain": [
       "(619,)"
      ]
     },
     "execution_count": 99,
     "metadata": {},
     "output_type": "execute_result"
    }
   ],
   "source": [
    "# find sum\n",
    "results=cur.execute(\"select sum(marks) from student\")\n",
    "\n",
    "results.fetchone()"
   ]
  },
  {
   "cell_type": "code",
   "execution_count": 100,
   "id": "3bfcc519",
   "metadata": {},
   "outputs": [
    {
     "data": {
      "text/plain": [
       "(8,)"
      ]
     },
     "execution_count": 100,
     "metadata": {},
     "output_type": "execute_result"
    }
   ],
   "source": [
    "results=cur.execute(\"select count(id) from student\")\n",
    "\n",
    "results.fetchone()"
   ]
  },
  {
   "cell_type": "code",
   "execution_count": 101,
   "id": "a86e1b9f",
   "metadata": {},
   "outputs": [
    {
     "name": "stdout",
     "output_type": "stream",
     "text": [
      "(3, 'andrew', 70)\n",
      "(7, 'kiara', 75)\n"
     ]
    }
   ],
   "source": [
    "results=cur.execute(\"select * from student where marks between 65 and 85\")\n",
    "\n",
    "for i in results:\n",
    "    print(i)"
   ]
  },
  {
   "cell_type": "code",
   "execution_count": 102,
   "id": "5d74c8cf",
   "metadata": {},
   "outputs": [],
   "source": [
    "results=cur.execute(\"select * from student where marks is null\")\n",
    "\n",
    "for i in results:\n",
    "    print(i)"
   ]
  },
  {
   "cell_type": "code",
   "execution_count": 103,
   "id": "fca52af9",
   "metadata": {},
   "outputs": [
    {
     "name": "stdout",
     "output_type": "stream",
     "text": [
      "(1, 'john', 90)\n",
      "(2, 'teena', 100)\n",
      "(3, 'andrew', 70)\n",
      "(4, 'dorsey', 56)\n",
      "(5, 'devid', 46)\n",
      "(6, 'kim', 88)\n",
      "(7, 'kiara', 75)\n",
      "(8, 'jack', 94)\n"
     ]
    }
   ],
   "source": [
    "results=cur.execute(\"select * from student where marks is not null\")\n",
    "\n",
    "for i in results:\n",
    "    print(i)"
   ]
  },
  {
   "cell_type": "markdown",
   "id": "ed4291bc",
   "metadata": {},
   "source": [
    "LIKE operators"
   ]
  },
  {
   "cell_type": "code",
   "execution_count": 104,
   "id": "5adf9f05",
   "metadata": {},
   "outputs": [
    {
     "name": "stdout",
     "output_type": "stream",
     "text": [
      "(4, 'dorsey', 56)\n",
      "(5, 'devid', 46)\n"
     ]
    }
   ],
   "source": [
    "results=cur.execute(\"select * from student where name like 'd%'\")\n",
    "\n",
    "for i in results:\n",
    "    print(i)"
   ]
  },
  {
   "cell_type": "code",
   "execution_count": 106,
   "id": "258aff45",
   "metadata": {},
   "outputs": [
    {
     "name": "stdout",
     "output_type": "stream",
     "text": [
      "(1, 'john', 90)\n",
      "(8, 'jack', 94)\n"
     ]
    }
   ],
   "source": [
    "results=cur.execute(\"select * from student where name like 'j%'\")\n",
    "\n",
    "for i in results:\n",
    "    print(i)"
   ]
  },
  {
   "cell_type": "code",
   "execution_count": 107,
   "id": "51572a7f",
   "metadata": {},
   "outputs": [
    {
     "name": "stdout",
     "output_type": "stream",
     "text": [
      "(8, 'jack', 94)\n"
     ]
    }
   ],
   "source": [
    "results=cur.execute(\"select * from student where name like '_a%'\")\n",
    "\n",
    "for i in results:\n",
    "    print(i)"
   ]
  },
  {
   "cell_type": "code",
   "execution_count": 109,
   "id": "e84ea744",
   "metadata": {},
   "outputs": [
    {
     "name": "stdout",
     "output_type": "stream",
     "text": [
      "(6, 'kim', 88)\n"
     ]
    }
   ],
   "source": [
    "results=cur.execute(\"select * from student where name like '%m'\")\n",
    "\n",
    "for i in results:\n",
    "    print(i)"
   ]
  },
  {
   "cell_type": "code",
   "execution_count": 111,
   "id": "b61b26c7",
   "metadata": {},
   "outputs": [
    {
     "name": "stdout",
     "output_type": "stream",
     "text": [
      "(2, 'teena', 100)\n",
      "(3, 'andrew', 70)\n",
      "(4, 'dorsey', 56)\n",
      "(5, 'devid', 46)\n"
     ]
    }
   ],
   "source": [
    "results=cur.execute(\"select * from student where name like '%e%'\")\n",
    "\n",
    "for i in results:\n",
    "    print(i)"
   ]
  },
  {
   "cell_type": "code",
   "execution_count": 112,
   "id": "88e1877a",
   "metadata": {},
   "outputs": [
    {
     "data": {
      "text/plain": [
       "[(1, 'john', 90),\n",
       " (2, 'teena', 100),\n",
       " (3, 'andrew', 70),\n",
       " (4, 'dorsey', 56),\n",
       " (5, 'devid', 46),\n",
       " (6, 'kim', 88),\n",
       " (7, 'kiara', 75),\n",
       " (8, 'jack', 94)]"
      ]
     },
     "execution_count": 112,
     "metadata": {},
     "output_type": "execute_result"
    }
   ],
   "source": [
    "results=cur.execute(\"select * from student\")\n",
    "\n",
    "results.fetchall()"
   ]
  },
  {
   "cell_type": "code",
   "execution_count": 113,
   "id": "42175825",
   "metadata": {},
   "outputs": [
    {
     "name": "stdout",
     "output_type": "stream",
     "text": [
      "(1, 'john', 90)\n",
      "(8, 'jack', 94)\n"
     ]
    }
   ],
   "source": [
    "# display only 4 letter charactor\n",
    "results=cur.execute(\"select * from student where name like '____'\")\n",
    "\n",
    "for i in results:\n",
    "    print(i)"
   ]
  },
  {
   "cell_type": "code",
   "execution_count": 115,
   "id": "a6a0d7b9",
   "metadata": {},
   "outputs": [
    {
     "data": {
      "text/plain": [
       "[(1, 'john', 90),\n",
       " (2, 'teena', 100),\n",
       " (4, 'dorsey', 56),\n",
       " (5, 'devid', 46),\n",
       " (6, 'kim', 88),\n",
       " (7, 'kiara', 75),\n",
       " (8, 'jack', 94)]"
      ]
     },
     "execution_count": 115,
     "metadata": {},
     "output_type": "execute_result"
    }
   ],
   "source": [
    "results=cur.execute(\"select * from student where marks NOT in (70)\")\n",
    "\n",
    "results.fetchall()"
   ]
  },
  {
   "cell_type": "code",
   "execution_count": 116,
   "id": "2acce7c7",
   "metadata": {},
   "outputs": [
    {
     "data": {
      "text/plain": [
       "[(1, 'john', 90),\n",
       " (2, 'teena', 100),\n",
       " (3, 'andrew', 70),\n",
       " (4, 'dorsey', 56),\n",
       " (5, 'devid', 46),\n",
       " (7, 'kiara', 75),\n",
       " (8, 'jack', 94)]"
      ]
     },
     "execution_count": 116,
     "metadata": {},
     "output_type": "execute_result"
    }
   ],
   "source": [
    "results=cur.execute(\"select * from student where name NOT in ('kim')\")\n",
    "\n",
    "results.fetchall()"
   ]
  },
  {
   "cell_type": "markdown",
   "id": "bd9ceeef",
   "metadata": {},
   "source": [
    "# UPDATE record"
   ]
  },
  {
   "cell_type": "code",
   "execution_count": 118,
   "id": "84f86560",
   "metadata": {},
   "outputs": [
    {
     "data": {
      "text/plain": [
       "<sqlite3.Cursor at 0x2b9df52dc70>"
      ]
     },
     "execution_count": 118,
     "metadata": {},
     "output_type": "execute_result"
    }
   ],
   "source": [
    "# update the rrocord\n",
    "\n",
    "sql=\"update student set marks=56 where id=4\"\n",
    "cur.execute(sql)"
   ]
  },
  {
   "cell_type": "code",
   "execution_count": 119,
   "id": "7e66e4ec",
   "metadata": {},
   "outputs": [
    {
     "name": "stdout",
     "output_type": "stream",
     "text": [
      "(4, 'dorsey', 56)\n"
     ]
    }
   ],
   "source": [
    "results=cur.execute(\"select * from student where id=4\")\n",
    "\n",
    "for row in results:\n",
    "    print(row)\n",
    "\n"
   ]
  },
  {
   "cell_type": "code",
   "execution_count": 121,
   "id": "0e2a7290",
   "metadata": {},
   "outputs": [
    {
     "name": "stdout",
     "output_type": "stream",
     "text": [
      "(1, 'john', 90)\n",
      "(2, 'teena', 100)\n",
      "(3, 'andrew', 70)\n",
      "(4, 'dorsey', 56)\n",
      "(5, 'devid', 46)\n",
      "(6, 'kim', 88)\n",
      "(7, 'kiara', 75)\n",
      "(8, 'jack', 94)\n"
     ]
    }
   ],
   "source": [
    "results=cur.execute(\"select * from student\")\n",
    "\n",
    "for row in results:\n",
    "    print(row)\n",
    "\n"
   ]
  },
  {
   "cell_type": "raw",
   "id": "dada90cc",
   "metadata": {},
   "source": [
    "# multipale record update\n",
    "\n",
    "\n",
    "# sql=\"update student set marks=92 where id in(1,2)\"\n",
    "# cur.execute(sql)"
   ]
  },
  {
   "cell_type": "code",
   "execution_count": 122,
   "id": "a31f67fe",
   "metadata": {},
   "outputs": [
    {
     "name": "stdout",
     "output_type": "stream",
     "text": [
      "(1, 'john', 90)\n",
      "(2, 'teena', 100)\n",
      "(3, 'andrew', 70)\n",
      "(4, 'dorsey', 56)\n",
      "(5, 'devid', 46)\n",
      "(6, 'kim', 88)\n",
      "(7, 'kiara', 75)\n",
      "(8, 'jack', 94)\n"
     ]
    }
   ],
   "source": [
    "results=cur.execute(\"select * from student\")\n",
    "\n",
    "for row in results:\n",
    "    print(row)\n",
    "\n"
   ]
  },
  {
   "cell_type": "code",
   "execution_count": 12,
   "id": "245c72bb",
   "metadata": {},
   "outputs": [
    {
     "ename": "NameError",
     "evalue": "name 'cur' is not defined",
     "output_type": "error",
     "traceback": [
      "\u001b[1;31m---------------------------------------------------------------------------\u001b[0m",
      "\u001b[1;31mNameError\u001b[0m                                 Traceback (most recent call last)",
      "Input \u001b[1;32mIn [12]\u001b[0m, in \u001b[0;36m<cell line: 3>\u001b[1;34m()\u001b[0m\n\u001b[0;32m      1\u001b[0m \u001b[38;5;66;03m#multipal record update using 'IN'\u001b[39;00m\n\u001b[0;32m      2\u001b[0m sql\u001b[38;5;241m=\u001b[39m\u001b[38;5;124m\"\u001b[39m\u001b[38;5;124mUPDATE student SET marks=68 where id in (5,6)\u001b[39m\u001b[38;5;124m\"\u001b[39m\n\u001b[1;32m----> 3\u001b[0m \u001b[43mcur\u001b[49m\u001b[38;5;241m.\u001b[39mexecute(sql)\n\u001b[0;32m      5\u001b[0m \u001b[38;5;66;03m# verify if its updated\u001b[39;00m\n\u001b[0;32m      6\u001b[0m results \u001b[38;5;241m=\u001b[39m cur\u001b[38;5;241m.\u001b[39mexecute(\u001b[38;5;124m\"\u001b[39m\u001b[38;5;124mSELECT * FROM student\u001b[39m\u001b[38;5;124m\"\u001b[39m)\n",
      "\u001b[1;31mNameError\u001b[0m: name 'cur' is not defined"
     ]
    }
   ],
   "source": [
    "#multipal record update using 'IN'\n",
    "sql=\"UPDATE student SET marks=68 where id in (5,6)\"\n",
    "cur.execute(sql)\n",
    "\n",
    "# verify if its updated\n",
    "results = cur.execute(\"SELECT * FROM student\")\n",
    "for row in results:\n",
    "    print(row)"
   ]
  },
  {
   "cell_type": "code",
   "execution_count": null,
   "id": "1f86766c",
   "metadata": {},
   "outputs": [],
   "source": [
    "# db.close()"
   ]
  },
  {
   "cell_type": "markdown",
   "id": "d7054452",
   "metadata": {},
   "source": [
    "# accessing data stored in SQLite using python and pandas"
   ]
  },
  {
   "cell_type": "code",
   "execution_count": 3,
   "id": "5d388c6a",
   "metadata": {},
   "outputs": [],
   "source": [
    "import pandas as pd\n",
    "import sqlite3"
   ]
  },
  {
   "cell_type": "code",
   "execution_count": 4,
   "id": "6f432274",
   "metadata": {},
   "outputs": [],
   "source": [
    "con=sqlite3.connect(\"student_database.db\")"
   ]
  },
  {
   "cell_type": "code",
   "execution_count": 5,
   "id": "30009fbe",
   "metadata": {},
   "outputs": [],
   "source": [
    "df=pd.read_sql_query(\"select * from student\",con)"
   ]
  },
  {
   "cell_type": "code",
   "execution_count": 6,
   "id": "fad55e93",
   "metadata": {},
   "outputs": [
    {
     "data": {
      "text/html": [
       "<div>\n",
       "<style scoped>\n",
       "    .dataframe tbody tr th:only-of-type {\n",
       "        vertical-align: middle;\n",
       "    }\n",
       "\n",
       "    .dataframe tbody tr th {\n",
       "        vertical-align: top;\n",
       "    }\n",
       "\n",
       "    .dataframe thead th {\n",
       "        text-align: right;\n",
       "    }\n",
       "</style>\n",
       "<table border=\"1\" class=\"dataframe\">\n",
       "  <thead>\n",
       "    <tr style=\"text-align: right;\">\n",
       "      <th></th>\n",
       "      <th>id</th>\n",
       "      <th>name</th>\n",
       "      <th>marks</th>\n",
       "    </tr>\n",
       "  </thead>\n",
       "  <tbody>\n",
       "  </tbody>\n",
       "</table>\n",
       "</div>"
      ],
      "text/plain": [
       "Empty DataFrame\n",
       "Columns: [id, name, marks]\n",
       "Index: []"
      ]
     },
     "execution_count": 6,
     "metadata": {},
     "output_type": "execute_result"
    }
   ],
   "source": [
    "df"
   ]
  },
  {
   "cell_type": "code",
   "execution_count": 9,
   "id": "9121aae5",
   "metadata": {},
   "outputs": [],
   "source": [
    "con.close()"
   ]
  },
  {
   "cell_type": "markdown",
   "id": "5f75e34d",
   "metadata": {},
   "source": [
    "# Delete any unwanted records"
   ]
  },
  {
   "cell_type": "code",
   "execution_count": 38,
   "id": "7fbf0203",
   "metadata": {},
   "outputs": [
    {
     "data": {
      "text/plain": [
       "<sqlite3.Cursor at 0x268e8fcf650>"
      ]
     },
     "execution_count": 38,
     "metadata": {},
     "output_type": "execute_result"
    }
   ],
   "source": [
    "sql=\"delete from student where id=6\"\n",
    "\n",
    "cur.execute(sql)"
   ]
  },
  {
   "cell_type": "code",
   "execution_count": 39,
   "id": "d0f5aec0",
   "metadata": {},
   "outputs": [
    {
     "data": {
      "text/plain": [
       "[(1, 'john', 90),\n",
       " (2, 'teena', 100),\n",
       " (3, 'andrew', 70),\n",
       " (4, 'dorsey', 56),\n",
       " (5, 'devid', 46),\n",
       " (7, 'kiara', 75),\n",
       " (8, 'jack', 94)]"
      ]
     },
     "execution_count": 39,
     "metadata": {},
     "output_type": "execute_result"
    }
   ],
   "source": [
    "results=cur.execute(\"select * from student\")\n",
    "results.fetchall()\n",
    "\n"
   ]
  },
  {
   "cell_type": "code",
   "execution_count": 41,
   "id": "a287e0f3",
   "metadata": {},
   "outputs": [
    {
     "data": {
      "text/plain": [
       "<sqlite3.Cursor at 0x268e8fcf650>"
      ]
     },
     "execution_count": 41,
     "metadata": {},
     "output_type": "execute_result"
    }
   ],
   "source": [
    "sql=\"delete from student where id=4\"\n",
    "\n",
    "cur.execute(sql)"
   ]
  },
  {
   "cell_type": "code",
   "execution_count": 42,
   "id": "e9618c65",
   "metadata": {},
   "outputs": [
    {
     "data": {
      "text/plain": [
       "[(1, 'john', 90),\n",
       " (2, 'teena', 100),\n",
       " (3, 'andrew', 70),\n",
       " (5, 'devid', 46),\n",
       " (7, 'kiara', 75),\n",
       " (8, 'jack', 94)]"
      ]
     },
     "execution_count": 42,
     "metadata": {},
     "output_type": "execute_result"
    }
   ],
   "source": [
    "results=cur.execute(\"select * from student\")\n",
    "results.fetchall()\n",
    "\n"
   ]
  },
  {
   "cell_type": "markdown",
   "id": "2ff5da06",
   "metadata": {},
   "source": [
    "# DROP table student"
   ]
  },
  {
   "cell_type": "code",
   "execution_count": 43,
   "id": "b7173716",
   "metadata": {},
   "outputs": [],
   "source": [
    "sql='drop table student'\n",
    "results=cur.execute(sql)"
   ]
  },
  {
   "cell_type": "code",
   "execution_count": 44,
   "id": "7ad1e6f6",
   "metadata": {},
   "outputs": [
    {
     "ename": "OperationalError",
     "evalue": "no such table: student",
     "output_type": "error",
     "traceback": [
      "\u001b[1;31m---------------------------------------------------------------------------\u001b[0m",
      "\u001b[1;31mOperationalError\u001b[0m                          Traceback (most recent call last)",
      "Input \u001b[1;32mIn [44]\u001b[0m, in \u001b[0;36m<cell line: 1>\u001b[1;34m()\u001b[0m\n\u001b[1;32m----> 1\u001b[0m results\u001b[38;5;241m=\u001b[39m\u001b[43mcur\u001b[49m\u001b[38;5;241;43m.\u001b[39;49m\u001b[43mexecute\u001b[49m\u001b[43m(\u001b[49m\u001b[38;5;124;43m\"\u001b[39;49m\u001b[38;5;124;43mselect * from student\u001b[39;49m\u001b[38;5;124;43m\"\u001b[39;49m\u001b[43m)\u001b[49m\n\u001b[0;32m      2\u001b[0m results\u001b[38;5;241m.\u001b[39mfetchall()\n",
      "\u001b[1;31mOperationalError\u001b[0m: no such table: student"
     ]
    }
   ],
   "source": [
    "results=cur.execute(\"select * from student\")\n",
    "results.fetchall()\n",
    "\n"
   ]
  },
  {
   "cell_type": "code",
   "execution_count": 45,
   "id": "51e67853",
   "metadata": {},
   "outputs": [],
   "source": [
    "db.close()"
   ]
  },
  {
   "cell_type": "code",
   "execution_count": null,
   "id": "0133f68c",
   "metadata": {},
   "outputs": [],
   "source": []
  }
 ],
 "metadata": {
  "kernelspec": {
   "display_name": "Python 3 (ipykernel)",
   "language": "python",
   "name": "python3"
  },
  "language_info": {
   "codemirror_mode": {
    "name": "ipython",
    "version": 3
   },
   "file_extension": ".py",
   "mimetype": "text/x-python",
   "name": "python",
   "nbconvert_exporter": "python",
   "pygments_lexer": "ipython3",
   "version": "3.9.12"
  }
 },
 "nbformat": 4,
 "nbformat_minor": 5
}
